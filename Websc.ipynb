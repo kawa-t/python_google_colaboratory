{
  "nbformat": 4,
  "nbformat_minor": 0,
  "metadata": {
    "colab": {
      "name": "Websc.ipynb",
      "provenance": [],
      "collapsed_sections": [],
      "authorship_tag": "ABX9TyOk0WAY5nqqO4lX/5xJH5/C",
      "include_colab_link": true
    },
    "kernelspec": {
      "name": "python3",
      "display_name": "Python 3"
    }
  },
  "cells": [
    {
      "cell_type": "markdown",
      "metadata": {
        "id": "view-in-github",
        "colab_type": "text"
      },
      "source": [
        "<a href=\"https://colab.research.google.com/github/kawa-t/python_google_colaboratory/blob/main/Websc.ipynb\" target=\"_parent\"><img src=\"https://colab.research.google.com/assets/colab-badge.svg\" alt=\"Open In Colab\"/></a>"
      ]
    },
    {
      "cell_type": "code",
      "metadata": {
        "colab": {
          "base_uri": "https://localhost:8080/"
        },
        "id": "TpRDR5NGdjEB",
        "outputId": "717cc3c4-6e49-4601-8eb2-86abb60a3b83"
      },
      "source": [
        "#  ライブラリをインポート \n",
        "from bs4 import BeautifulSoup\n",
        "import requests\n",
        "url = \"https://bitbank.cc/info/ripple/chart\"\n",
        "r = requests.get(url)\n",
        "soup = BeautifulSoup(r.text, \"lxml\")\n",
        "found = soup.find('h2', class_=\"currentpriceheader\")\n",
        "print(found.text)"
      ],
      "execution_count": 9,
      "outputs": [
        {
          "output_type": "stream",
          "text": [
            "ãªããã«ãªã¢ã«ã¿ã¤ã ãã£ã¼ããä¾¡æ ¼ã»ç¸å ´ã\n"
          ],
          "name": "stdout"
        }
      ]
    }
  ]
}