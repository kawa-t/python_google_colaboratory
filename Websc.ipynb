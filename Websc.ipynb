{
  "nbformat": 4,
  "nbformat_minor": 0,
  "metadata": {
    "colab": {
      "name": "Websc.ipynb",
      "provenance": [],
      "collapsed_sections": [],
      "authorship_tag": "ABX9TyMT18njwUfzh6vRcX3p5Nm1",
      "include_colab_link": true
    },
    "kernelspec": {
      "name": "python3",
      "display_name": "Python 3"
    }
  },
  "cells": [
    {
      "cell_type": "markdown",
      "metadata": {
        "id": "view-in-github",
        "colab_type": "text"
      },
      "source": [
        "<a href=\"https://colab.research.google.com/github/kawa-t/python_google_colaboratory/blob/main/Websc.ipynb\" target=\"_parent\"><img src=\"https://colab.research.google.com/assets/colab-badge.svg\" alt=\"Open In Colab\"/></a>"
      ]
    },
    {
      "cell_type": "code",
      "metadata": {
        "colab": {
          "base_uri": "https://localhost:8080/"
        },
        "id": "TpRDR5NGdjEB",
        "outputId": "3092bb49-6bf4-47d5-ebcf-e9ce53a049bd"
      },
      "source": [
        "import os\n",
        "import tqdm\n",
        "import xlrd\n",
        "import pprint\n",
        "import sqlite3\n",
        "import re\n",
        "import copy\n",
        "import gspread\n",
        "print(gspread.__version__)"
      ],
      "execution_count": 5,
      "outputs": [
        {
          "output_type": "stream",
          "text": [
            "3.0.1\n"
          ],
          "name": "stdout"
        }
      ]
    },
    {
      "cell_type": "code",
      "metadata": {
        "id": "Fm6I1ZlYaCBj"
      },
      "source": [
        "from google.colab import auth\n",
        "from oauth2client.client import GoogleCredentials\n",
        "import gspread\n",
        "\n",
        "auth.authenticate_user()\n",
        "gc = gspread.authorize(GoogleCredentials.get_application_default())"
      ],
      "execution_count": 6,
      "outputs": []
    },
    {
      "cell_type": "code",
      "metadata": {
        "id": "xLz4hxWjapzM",
        "outputId": "4419e692-0728-4f22-f869-8401f637d3cc",
        "colab": {
          "base_uri": "https://localhost:8080/"
        }
      },
      "source": [
        "ss_id = \"1gXNvEkYupcPKDoBe2gTsDPOw4KSU_11mnL3gexDOHlE\"\n",
        "workbook = gc.open_by_key(ss_id)\n",
        "\n",
        "worksheet = workbook.worksheet(\"シート1\")\n",
        "\n",
        "print(worksheet.acell(\"A1\").value)"
      ],
      "execution_count": 7,
      "outputs": [
        {
          "output_type": "stream",
          "text": [
            "実験してみた\n"
          ],
          "name": "stdout"
        }
      ]
    }
  ]
}