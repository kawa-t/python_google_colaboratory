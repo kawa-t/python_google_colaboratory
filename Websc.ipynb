{
  "nbformat": 4,
  "nbformat_minor": 0,
  "metadata": {
    "colab": {
      "name": "Websc.ipynb",
      "provenance": [],
      "collapsed_sections": [],
      "authorship_tag": "ABX9TyPOnfPhcYYPN4Zyf8VE4uie",
      "include_colab_link": true
    },
    "kernelspec": {
      "name": "python3",
      "display_name": "Python 3"
    }
  },
  "cells": [
    {
      "cell_type": "markdown",
      "metadata": {
        "id": "view-in-github",
        "colab_type": "text"
      },
      "source": [
        "<a href=\"https://colab.research.google.com/github/kata-n/python_google_colaboratory/blob/main/Websc.ipynb\" target=\"_parent\"><img src=\"https://colab.research.google.com/assets/colab-badge.svg\" alt=\"Open In Colab\"/></a>"
      ]
    },
    {
      "cell_type": "code",
      "metadata": {
        "colab": {
          "base_uri": "https://localhost:8080/"
        },
        "id": "TpRDR5NGdjEB",
        "outputId": "5517c71a-f58f-4d8a-dde2-7cffd6280a86"
      },
      "source": [
        "#  ライブラリをインポート \n",
        "from bs4 import BeautifulSoup\n",
        "import requests\n",
        "url = \"https://dempagumi.tokyo/\"\n",
        "r = requests.get(url)\n",
        "soup = BeautifulSoup(r.text, \"lxml\")\n",
        "tags = soup.find_all(\"a\")\n",
        "for tag in tags:\n",
        "  print(tag.get(\"href\"))"
      ],
      "execution_count": 1,
      "outputs": [
        {
          "output_type": "stream",
          "text": [
            "/\n",
            "https://dempagumi.tokyo/news/\n",
            "https://dempagumi.tokyo/schedule/\n",
            "https://dempagumi.tokyo/profile/\n",
            "https://dempagumi.tokyo/video/\n",
            "https://dempagumi.tokyo/discography/\n",
            "http://store.dearstage.com/shopbrand/dempa/\n",
            "http://dempatow.dearstage.com/\n",
            "https://twitter.com/dempagumi\n",
            "https://ja-jp.facebook.com/dempagumi.inc/\n",
            "https://lineblog.me/dempagumi/\n",
            "https://dempagumi.tokyo/news/2020/12/25/210203/\n",
            "https://dempagumi.tokyo/news/2020/11/11/nemopero_lavilith_1216event/\n",
            "https://dempagumi.tokyo/news/2020/11/11/nemopero_lavilith_1216/\n",
            "https://dempagumi.tokyo/news/2020/07/02/dempa_nemopero_jkt/\n",
            "https://dempagumi.tokyo/news/2020/04/15/0415dempagumi_mv_info/\n",
            "https://dempagumi.tokyo/news/2020/02/14/dempagumi_6thalbum/\n",
            "https://dempagumi.tokyo/event/dempa_rh/\n",
            "https://dempagumi.tokyo/event/aonyan_210411/\n",
            "https://dempagumi.tokyo/schedule/\n",
            "#all\n",
            "#info\n",
            "#live\n",
            "#media\n",
            "#goods\n",
            "https://dempagumi.tokyo/news/2021/03/17/riapi_210404/\n",
            "https://dempagumi.tokyo/news/2021/03/13/marche_210314/\n",
            "https://dempagumi.tokyo/news/2021/03/12/nemo_210315/\n",
            "https://dempagumi.tokyo/news/2021/03/12/goods_0315/\n",
            "https://dempagumi.tokyo/news/2021/03/09/ao_210411/\n",
            "https://dempagumi.tokyo/news/\n",
            "https://youtu.be/FuIIuHVC5Ck?autoplay=0\n",
            "https://dempagumi.tokyo/discography/pptf-1037/\n",
            "https://dempagumi.tokyo/discography/pptf-7035/\n",
            "https://dempagumi.tokyo/discography/tfcc-89692/\n",
            "https://dempagumi.tokyo/discography/\n",
            "https://store.dearstage.com/shopbrand/family2020/?utm_source=pcBnr\n",
            "https://store.dearstage.com/shopbrand/family2020/?utm_source=pcBnr\n",
            "https://store.dearstage.com/shopbrand/family2020/?utm_source=pcBnr\n",
            "http://store.dearstage.com/dempagumi\n",
            "http://store.emtg.jp/dempatow/\n",
            "https://twitter.com/dempagumi\n",
            "https://www.facebook.com/dempagumi.inc/\n",
            "#top\n",
            "https://twitter.com/dempagumi\n",
            "https://www.instagram.com/dempagumi.official/\n",
            "https://ja-jp.facebook.com/dempagumi.inc/\n",
            "https://www.youtube.com/user/dempagumiinc\n",
            "https://lineblog.me/dempagumi/\n",
            "https://www.twitch.tv/furukawamirin\n",
            "https://dempagumi.tokyo/contact/\n",
            "http://www.toysfactory.co.jp/artist/dempagumi/\n",
            "http://dearstage.com/\n",
            "http://club-mogra.jp/\n"
          ],
          "name": "stdout"
        }
      ]
    }
  ]
}